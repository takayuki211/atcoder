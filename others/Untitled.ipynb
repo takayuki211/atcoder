{
 "cells": [
  {
   "cell_type": "code",
   "execution_count": 1,
   "metadata": {},
   "outputs": [],
   "source": [
    "import itertools"
   ]
  },
  {
   "cell_type": "code",
   "execution_count": 19,
   "metadata": {},
   "outputs": [
    {
     "name": "stdout",
     "output_type": "stream",
     "text": [
      "0\n",
      "1\n",
      "3\n",
      "0\n"
     ]
    }
   ],
   "source": [
    "from collections import defaultdict\n",
    "\n",
    "# lambda関数を入れたのと同じ。intで初期化するとint()で初期化したことになる。\n",
    "d = defaultdict(int)\n",
    "print(d[0])\n",
    "\n",
    "d2 = defaultdict(lambda: defaultdict(int))\n",
    "d2[0][0] = 1\n",
    "d2[0][1] += 3\n",
    "\n",
    "print(d2[0][0])\n",
    "print(d2[0][1])\n",
    "print(d2[0][2])"
   ]
  },
  {
   "cell_type": "code",
   "execution_count": 29,
   "metadata": {},
   "outputs": [
    {
     "name": "stdout",
     "output_type": "stream",
     "text": [
      "OrderedDict([('k1', 1), ('k2', 2), ('k3', 3)])\n",
      "OrderedDict([('k2', 2), ('k3', 3), ('k1', 1)])\n",
      "OrderedDict([('k2', 2), ('kx', -1), ('k3', 3), ('k1', 1)])\n"
     ]
    }
   ],
   "source": [
    "from collections import OrderedDict\n",
    "\n",
    "od = OrderedDict()\n",
    "od['k1'] = 1\n",
    "od['k2'] = 2\n",
    "od['k3'] = 3\n",
    "\n",
    "print(od) # -> OrderedDict([('k1', 1), ('k2', 2), ('k3', 3)])\n",
    "\n",
    "od.move_to_end('k1')\n",
    "print(od) # -> OrderedDict([('k2', 2), ('k3', 3), ('k1', 1)])\n",
    "\n",
    "l = list(od.items())\n",
    "l.insert(1, ('kx', -1))\n",
    "od2 = OrderedDict(l)\n",
    "print(od2) # -> OrderedDict([('k2', 2), ('kx', -1), ('k3', 3), ('k1', 1)])\n"
   ]
  },
  {
   "cell_type": "code",
   "execution_count": 40,
   "metadata": {},
   "outputs": [
    {
     "name": "stdout",
     "output_type": "stream",
     "text": [
      "Counter({1: 4, 2: 2, 3: 2, 4: 1})\n",
      "4\n",
      "(1, 4)\n",
      "[1, 2, 3]\n"
     ]
    }
   ],
   "source": [
    "from collections import Counter\n",
    "\n",
    "ls = [1,2,1,1,3,4,1,2,3]\n",
    "\n",
    "c = Counter(ls)\n",
    "print(c) # -> Counter({1: 4, 2: 2, 3: 2, 4: 1})\n",
    "print(c[1]) # -> 4\n",
    "\n",
    "mc = c.most_common()\n",
    "print(mc[0])\n",
    "\n",
    "# 2回以上出現したもののみを取得する\n",
    "print([i[0] for i in c.items() if i[1] >= 2]) # -> [1, 2, 3]"
   ]
  },
  {
   "cell_type": "code",
   "execution_count": 42,
   "metadata": {},
   "outputs": [
    {
     "data": {
      "text/plain": [
       "[2, 1, 1, 3, 4, 1, 2, 3]"
      ]
     },
     "execution_count": 42,
     "metadata": {},
     "output_type": "execute_result"
    }
   ],
   "source": [
    "ls = [1,2,1,1,3,4,1,2,3]\n",
    "ls.pop(0)\n",
    "ls"
   ]
  },
  {
   "cell_type": "code",
   "execution_count": 59,
   "metadata": {},
   "outputs": [
    {
     "name": "stdout",
     "output_type": "stream",
     "text": [
      "deque(['m', 'n', 'o'])\n",
      "deque(['n', 'o'])\n",
      "deque(['m', 'n', 'o'])\n",
      "deque(['m', 'n'])\n",
      "o\n"
     ]
    }
   ],
   "source": [
    "from collections import deque\n",
    "\n",
    "# キューとして使う（先入れ先出し：FIFO）\n",
    "d = deque(['m', 'n']) \n",
    "\n",
    "d.append('o') # oを末尾に追加\n",
    "print(d) # -> deque(['m', 'n', 'o'])\n",
    "\n",
    "d.popleft() # 先頭から削除\n",
    "print(d) # -> deque(['n', 'o'])\n",
    "\n",
    "\n",
    "# スタックとして使う（後入れ先出し：LIFO）\n",
    "d2 = deque(['m', 'n'])\n",
    "\n",
    "d2.append('o') # oを末尾に追加\n",
    "print(d2) # -> deque(['m', 'n', 'o'])\n",
    "\n",
    "d2.pop() # 末尾からpop\n",
    "print(d2) # -> deque(['m', 'n'])"
   ]
  },
  {
   "cell_type": "code",
   "execution_count": null,
   "metadata": {},
   "outputs": [],
   "source": [
    "\n",
    "d.appendleft('l')\n",
    "print(d) # -> deque(['l', 'm', 'n', 'o'])\n",
    "\n",
    "d.extend(['p', 'q'])\n",
    "print(d) # -> deque(['l', 'm', 'n', 'o', 'p', 'q'])\n",
    "\n",
    "d.extendleft(['k', 'j'])\n",
    "print(d) # -> deque(['j', 'k', 'l', 'm', 'n', 'o', 'p', 'q'])\n",
    "\n",
    "d.pop()\n",
    "print(d) # -> deque(['j', 'k', 'l', 'm', 'n', 'o', 'p'])\n",
    "\n",
    "d.popleft()\n",
    "print(d) # -> deque(['k', 'l', 'm', 'n', 'o', 'p'])\n",
    "\n",
    "d.remove('m')\n",
    "print(d) # -> deque(['k', 'l', 'n', 'o', 'p'])\n",
    "\n",
    "d.clear() # -> deque([])\n",
    "print(d)"
   ]
  },
  {
   "cell_type": "code",
   "execution_count": 63,
   "metadata": {},
   "outputs": [
    {
     "name": "stdout",
     "output_type": "stream",
     "text": [
      "[1, 2, 3, 3, 3, 3, 4, 4, 6, 6, 6, 6]\n",
      "[1, 2, 3, 3, 3, 3, 4, 4, 4, 6, 6, 6, 6]\n"
     ]
    }
   ],
   "source": [
    "from bisect import bisect_left # 挿入位置の取得\n",
    "from bisect import insort_left # 挿入\n",
    "\n",
    "A = [1, 2, 3, 3, 3, 4, 4, 6, 6, 6, 6]\n",
    "\n",
    "index = bisect_left(A, 3) # 3を挿入する位置を取得\n",
    "A.insert(index, 3) # 3を挿入\n",
    "print(A) # -> [1, 2, 3, 3, 3, 3, 4, 4, 6, 6, 6, 6]\n",
    "\n",
    "insort_left(A, 4)\n",
    "print(A) # -> \n"
   ]
  },
  {
   "cell_type": "code",
   "execution_count": null,
   "metadata": {},
   "outputs": [],
   "source": []
  }
 ],
 "metadata": {
  "kernelspec": {
   "display_name": "Python 3",
   "language": "python",
   "name": "python3"
  },
  "language_info": {
   "codemirror_mode": {
    "name": "ipython",
    "version": 3
   },
   "file_extension": ".py",
   "mimetype": "text/x-python",
   "name": "python",
   "nbconvert_exporter": "python",
   "pygments_lexer": "ipython3",
   "version": "3.7.7"
  }
 },
 "nbformat": 4,
 "nbformat_minor": 4
}
